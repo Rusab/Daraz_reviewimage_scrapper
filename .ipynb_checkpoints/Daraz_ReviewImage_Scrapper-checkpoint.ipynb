{
 "cells": [
  {
   "cell_type": "code",
   "execution_count": 60,
   "id": "sacred-vehicle",
   "metadata": {},
   "outputs": [],
   "source": [
    "import selenium\n",
    "from selenium import webdriver as wb\n",
    "\n",
    "webD = wb.Chrome('chromedriver.exe')\n",
    "webD.get('https://www.daraz.com.bd/products/parachute-coconut-oil-200ml-i891741-s3722311.html?spm=a2a0e.searchlistcategory.list.1.2a0b4013akIJTQ&search=1')"
   ]
  },
  {
   "cell_type": "markdown",
   "id": "handed-import",
   "metadata": {},
   "source": [
    "<h3> Single Image </h3>"
   ]
  },
  {
   "cell_type": "code",
   "execution_count": 57,
   "id": "proprietary-relief",
   "metadata": {},
   "outputs": [
    {
     "data": {
      "text/plain": [
       "'https://sg-test-11.slatic.net/other/roc/b4439b0048b9ec322a7264b925e409cf.jpg'"
      ]
     },
     "execution_count": 57,
     "metadata": {},
     "output_type": "execute_result"
    }
   ],
   "source": [
    "review_image_xpath = '//*[@id=\"module_product_review\"]/div/div[3]/div[1]/div[1]/div[3]/div[2]/'\n",
    "review_images = []\n",
    "\n",
    "obj = webD.find_elements_by_xpath(review_image_xpath + 'div/div[1]')\n",
    "obj[0].click()\n",
    "rev_img = webD.find_elements_by_xpath(review_image_xpath + 'div[2]/div/img')\n",
    "rev_img_link = rev_img[0].get_property('src')\n",
    "rev_img_link\n"
   ]
  },
  {
   "cell_type": "markdown",
   "id": "sublime-chrome",
   "metadata": {},
   "source": [
    "<h3> Multiple Image </h3>"
   ]
  },
  {
   "cell_type": "code",
   "execution_count": 79,
   "id": "earned-accident",
   "metadata": {},
   "outputs": [
    {
     "name": "stdout",
     "output_type": "stream",
     "text": [
      "lol\n",
      "lol\n",
      "lol\n",
      "lol\n",
      "lol\n"
     ]
    }
   ],
   "source": [
    "review_image_xpath = '//*[@id=\"module_product_review\"]/div/div[3]/div[1]/div[1]/div[3]/div[2]/'\n",
    "review_images = []\n",
    "//*[@id=\"module_product_review\"]/div/div[3]/div[1]/div[2]/div[3]/div[2]/div/div[1]\n",
    "for i in range(1, 6):\n",
    "    try:\n",
    "        obj = webD.find_elements_by_xpath('(' + review_image_xpath + 'div/div[{}]'.format(i) + ')[2]')\n",
    "        obj[0].click()\n",
    "        rev_img = webD.find_elements_by_xpath(review_image_xpath + 'div[2]/div/img')\n",
    "        rev_img_link = rev_img[0].get_property('src')\n",
    "        review_images.append(rev_img_link)\n",
    "    except:\n",
    "        print(\"lol\")\n"
   ]
  },
  {
   "cell_type": "code",
   "execution_count": 77,
   "id": "aquatic-behavior",
   "metadata": {},
   "outputs": [
    {
     "data": {
      "text/plain": [
       "['https://sg-test-11.slatic.net/other/roc/a3b3eacce9d31f4c420df62376ea7f8c.jpg']"
      ]
     },
     "execution_count": 77,
     "metadata": {},
     "output_type": "execute_result"
    }
   ],
   "source": [
    "review_images"
   ]
  },
  {
   "cell_type": "markdown",
   "id": "potential-worse",
   "metadata": {},
   "source": [
    "<h3> Next Review Section </h3>"
   ]
  },
  {
   "cell_type": "code",
   "execution_count": 81,
   "id": "attractive-theme",
   "metadata": {},
   "outputs": [],
   "source": [
    "obj = webD.find_elements_by_xpath('//*[@id=\"module_product_review\"]/div/div[3]/div[2]/div/div/button[2]')\n",
    "obj[0].click()"
   ]
  },
  {
   "cell_type": "code",
   "execution_count": null,
   "id": "opposite-integral",
   "metadata": {},
   "outputs": [],
   "source": []
  }
 ],
 "metadata": {
  "kernelspec": {
   "display_name": "Python 3",
   "language": "python",
   "name": "python3"
  },
  "language_info": {
   "codemirror_mode": {
    "name": "ipython",
    "version": 3
   },
   "file_extension": ".py",
   "mimetype": "text/x-python",
   "name": "python",
   "nbconvert_exporter": "python",
   "pygments_lexer": "ipython3",
   "version": "3.9.1"
  }
 },
 "nbformat": 4,
 "nbformat_minor": 5
}
