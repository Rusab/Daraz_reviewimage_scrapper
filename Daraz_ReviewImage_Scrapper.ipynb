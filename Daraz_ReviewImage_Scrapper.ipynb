{
 "cells": [
  {
   "cell_type": "code",
   "execution_count": 31,
   "id": "contemporary-creativity",
   "metadata": {},
   "outputs": [],
   "source": [
    "import selenium\n",
    "from selenium import webdriver as wb\n",
    "\n",
    "webD = wb.Chrome('chromedriver.exe')\n",
    "webD.get('https://www.daraz.com.bd/products/parachute-coconut-oil-200ml-i891741-s3722311.html?spm=a2a0e.searchlistcategory.list.1.2a0b4013akIJTQ&search=1')"
   ]
  },
  {
   "cell_type": "code",
   "execution_count": 32,
   "id": "stylish-coaching",
   "metadata": {},
   "outputs": [],
   "source": [
    "review_image_xpath = '//*[@id=\"module_product_review\"]/div/div[3]/div[1]/div[1]/div[3]/div[2]/'\n",
    "obj = webD.find_elements_by_xpath(review_image_xpath + 'div/div[1]')\n",
    "obj[0].click()\n",
    "\n",
    "\n",
    "#obj[0].get_property('src')"
   ]
  },
  {
   "cell_type": "code",
   "execution_count": 33,
   "id": "neither-education",
   "metadata": {},
   "outputs": [
    {
     "data": {
      "text/plain": [
       "'https://sg-test-11.slatic.net/other/roc/b4439b0048b9ec322a7264b925e409cf.jpg'"
      ]
     },
     "execution_count": 33,
     "metadata": {},
     "output_type": "execute_result"
    }
   ],
   "source": [
    "\n",
    "obj = webD.find_elements_by_xpath(review_image_xpath + 'div[2]/div/img')\n",
    "obj[0].get_property('src')"
   ]
  },
  {
   "cell_type": "code",
   "execution_count": null,
   "id": "cardiac-freight",
   "metadata": {},
   "outputs": [],
   "source": []
  }
 ],
 "metadata": {
  "kernelspec": {
   "display_name": "Python 3",
   "language": "python",
   "name": "python3"
  },
  "language_info": {
   "codemirror_mode": {
    "name": "ipython",
    "version": 3
   },
   "file_extension": ".py",
   "mimetype": "text/x-python",
   "name": "python",
   "nbconvert_exporter": "python",
   "pygments_lexer": "ipython3",
   "version": "3.9.1"
  }
 },
 "nbformat": 4,
 "nbformat_minor": 5
}
